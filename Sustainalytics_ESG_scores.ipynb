{
 "cells": [
  {
   "cell_type": "code",
   "execution_count": null,
   "id": "51a7dda6",
   "metadata": {},
   "outputs": [],
   "source": [
    "from selenium import webdriver\n",
    "from bs4 import BeautifulSoup as bs\n",
    "from webdriver_manager.chrome import ChromeDriverManager\n",
    "import time\n",
    "import pandas as pd\n",
    "from selenium.webdriver.common.by import By\n",
    "from selenium.webdriver.support.select import Select\n",
    "from selenium.webdriver.common.keys import Keys\n",
    "from selenium.webdriver.support.ui import WebDriverWait\n",
    "from selenium.webdriver.support import expected_conditions as EC\n",
    "from selenium.common.exceptions import NoSuchElementException\n",
    "import numpy as np"
   ]
  },
  {
   "cell_type": "code",
   "execution_count": null,
   "id": "15df5497",
   "metadata": {},
   "outputs": [],
   "source": [
    "#read in the exisiting dataframe with listed U.S. companies\n",
    "us_cos = pd.read_csv(\"us_stocks.csv\")\n",
    "us_cos"
   ]
  },
  {
   "cell_type": "code",
   "execution_count": null,
   "id": "953e5332",
   "metadata": {},
   "outputs": [],
   "source": [
    "#create new dataframe to hold the Sustainalytics scores\n",
    "df_sustain = pd.DataFrame(index=['Sustainalytics'])\n",
    "df_sustain"
   ]
  },
  {
   "cell_type": "code",
   "execution_count": null,
   "id": "77c49bed",
   "metadata": {},
   "outputs": [],
   "source": [
    "#alter the exchanges to correspond to the Sustainalytics format\n",
    "us_cos['exchange'].replace('NYSE','NYS', regex=True, inplace=True)\n",
    "us_cos['exchange'].replace('NASDAQ','NAS', regex=True, inplace=True)\n",
    "us_cos['exchange'].replace('AMEX','ASE', regex=True, inplace=True)\n",
    "us_cos"
   ]
  },
  {
   "cell_type": "code",
   "execution_count": null,
   "id": "16038315",
   "metadata": {},
   "outputs": [],
   "source": [
    "#create a new column that combines the ticker and the exchange\n",
    "us_cos['exchange:ticker'] = us_cos[['exchange','ticker']].agg(':'.join, axis=1)\n",
    "\n",
    "us_cos"
   ]
  },
  {
   "cell_type": "code",
   "execution_count": null,
   "id": "98553841",
   "metadata": {},
   "outputs": [],
   "source": [
    "#launch automated Chrome browser and direct to website\n",
    "chrome_driver = '/Users/tina/Desktop/Drivers/chromedriver'\n",
    "driver = webdriver.Chrome(chrome_driver)\n",
    "\n",
    "driver.get('https://www.sustainalytics.com/esg-rating/tesla-inc/1008215020')\n",
    "time.sleep(2)"
   ]
  },
  {
   "cell_type": "code",
   "execution_count": null,
   "id": "63fde3a7",
   "metadata": {},
   "outputs": [],
   "source": [
    "\n",
    "#test = ['AAL','AABA','ABBV','ABC','ABCB']\n",
    "\n",
    "counter = 0\n",
    "\n",
    "for i in us_cos['exchange:ticker']:\n",
    "    counter += 1\n",
    "    page_source = driver.page_source\n",
    "    soup = bs(page_source, 'lxml')\n",
    "    element = driver.find_element(By.ID,\"searchInput\")\n",
    "    element.clear()\n",
    "    time.sleep(1.5)\n",
    "    for character in i:\n",
    "        element.send_keys(character)\n",
    "        time.sleep(3) # pause in between characters\n",
    " \n",
    "    \n",
    "    try:\n",
    "        co_dropdown = f\"//span[@class='companyTicker' and text()='{i}']\"\n",
    "        elem = driver.find_element(By.XPATH, co_dropdown)\n",
    "        parent = elem.find_element(By.XPATH,\"../../../..\")\n",
    "        href = parent.find_element(By.CSS_SELECTOR, 'a').get_attribute('href')\n",
    "        time.sleep(1)\n",
    "        driver.get(href)\n",
    "        time.sleep(2)\n",
    "        score = soup.find(class_ = 'col-6 risk-rating-score').find('span').get_text()\n",
    "        df_sustain[i] = score\n",
    "    except NoSuchElementException:\n",
    "        pass\n",
    "  \n",
    "    time.sleep(1)  \n",
    "    \n",
    "    df_sustain.to_csv(\"sustainalytics_scores.csv\", index=False)\n",
    "    \n",
    "    if counter % 100 == 0:\n",
    "        time.sleep(10)\n",
    "    \n",
    "df_sustain  "
   ]
  },
  {
   "cell_type": "code",
   "execution_count": null,
   "id": "eec565af",
   "metadata": {},
   "outputs": [],
   "source": [
    "df_sustain"
   ]
  },
  {
   "cell_type": "code",
   "execution_count": null,
   "id": "5206193e",
   "metadata": {},
   "outputs": [],
   "source": [
    "driver.quit()\n"
   ]
  },
  {
   "cell_type": "code",
   "execution_count": null,
   "id": "66e9eb08",
   "metadata": {},
   "outputs": [],
   "source": []
  }
 ],
 "metadata": {
  "kernelspec": {
   "display_name": "Python 3",
   "language": "python",
   "name": "python3"
  },
  "language_info": {
   "codemirror_mode": {
    "name": "ipython",
    "version": 3
   },
   "file_extension": ".py",
   "mimetype": "text/x-python",
   "name": "python",
   "nbconvert_exporter": "python",
   "pygments_lexer": "ipython3",
   "version": "3.8.8"
  }
 },
 "nbformat": 4,
 "nbformat_minor": 5
}
